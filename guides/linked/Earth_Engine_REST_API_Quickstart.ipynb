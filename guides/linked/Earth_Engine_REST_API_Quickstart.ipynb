{
  "nbformat": 4,
  "nbformat_minor": 0,
  "metadata": {
    "colab": {
      "name": "Earth_Engine_REST_API_Quickstart.ipynb",
      "provenance": [],
      "include_colab_link": true
    },
    "kernelspec": {
      "name": "python3",
      "display_name": "Python 3"
    }
  },
  "cells": [
    {
      "cell_type": "markdown",
      "metadata": {
        "id": "view-in-github",
        "colab_type": "text"
      },
      "source": [
        "<a href=\"https://colab.research.google.com/github/emulsazib/JavaCSE215/blob/main/guides/linked/Earth_Engine_REST_API_Quickstart.ipynb\" target=\"_parent\"><img src=\"https://colab.research.google.com/assets/colab-badge.svg\" alt=\"Open In Colab\"/></a>"
      ]
    },
    {
      "cell_type": "markdown",
      "metadata": {
        "id": "pr1eEWIUjiBc"
      },
      "source": [
        "# Earth Engine REST API Quickstart\n",
        "\n",
        "This is a demonstration notebook for using the Earth Engine REST API.  See the complete guide for more information: https://developers.google.com/earth-engine/reference/Quickstart.\n"
      ]
    },
    {
      "cell_type": "markdown",
      "metadata": {
        "id": "OfMAA6YhPuFl"
      },
      "source": [
        "## Authentication\n",
        "\n",
        "The first step is to choose a project and login to Google Cloud."
      ]
    },
    {
      "cell_type": "code",
      "metadata": {
        "id": "FRm2HczTIlKe",
        "colab": {
          "base_uri": "https://localhost:8080/"
        },
        "outputId": "6be92d33-831c-468a-bd2b-39bcb3cc7844"
      },
      "source": [
        "# INSERT YOUR PROJECT HERE\n",
        "PROJECT = 'testgoogle'\n",
        "!gcloud auth login --project {PROJECT}"
      ],
      "execution_count": 1,
      "outputs": [
        {
          "output_type": "stream",
          "name": "stdout",
          "text": [
            "Go to the following link in your browser, and complete the sign-in prompts:\n",
            "\n",
            "    https://accounts.google.com/o/oauth2/auth?response_type=code&client_id=32555940559.apps.googleusercontent.com&redirect_uri=https%3A%2F%2Fsdk.cloud.google.com%2Fauthcode.html&scope=openid+https%3A%2F%2Fwww.googleapis.com%2Fauth%2Fuserinfo.email+https%3A%2F%2Fwww.googleapis.com%2Fauth%2Fcloud-platform+https%3A%2F%2Fwww.googleapis.com%2Fauth%2Fappengine.admin+https%3A%2F%2Fwww.googleapis.com%2Fauth%2Fsqlservice.login+https%3A%2F%2Fwww.googleapis.com%2Fauth%2Fcompute+https%3A%2F%2Fwww.googleapis.com%2Fauth%2Faccounts.reauth&state=7Sgem7ic7MwKdas0YvG8IucH7lWGaH&prompt=consent&token_usage=remote&access_type=offline&code_challenge=4ogFdofx8ZnSxDlEIi0cUqaPHjfOu5PUG1WpLkHT2-4&code_challenge_method=S256\n",
            "\n",
            "Once finished, enter the verification code provided in your browser: 4/0AUJR-x4QmujADK1z_ymHnE7q5axUODOugirL4Fym7jKiqR3vt51h3yZoRUwp_LaVRrzTtg\n",
            "\n",
            "You are now logged in as [emul.shajib742@gmail.com].\n",
            "Your current project is [testgoogle].  You can change this setting by running:\n",
            "  $ gcloud config set project PROJECT_ID\n"
          ]
        }
      ]
    },
    {
      "cell_type": "markdown",
      "metadata": {
        "id": "hnufOtSfP0jX"
      },
      "source": [
        "## Define service account credentials"
      ]
    },
    {
      "cell_type": "code",
      "metadata": {
        "id": "tLxOnKL2Nk5p",
        "colab": {
          "base_uri": "https://localhost:8080/"
        },
        "outputId": "6bf29a27-165d-40a6-df1f-59d1171dda68"
      },
      "source": [
        "# INSERT YOUR SERVICE ACCOUNT HERE\n",
        "SERVICE_ACCOUNT='emul.shajib742@gmail.com@testgoogle.iam.gserviceaccount.com'\n",
        "KEY = 'private-key.json'\n",
        "\n",
        "!gcloud iam service-accounts keys create {KEY} --iam-account {SERVICE_ACCOUNT}"
      ],
      "execution_count": 7,
      "outputs": [
        {
          "output_type": "stream",
          "name": "stdout",
          "text": [
            "\u001b[1;31mERROR:\u001b[0m (gcloud.iam.service-accounts.keys.create) INVALID_ARGUMENT: Unknown error\n"
          ]
        }
      ]
    },
    {
      "cell_type": "markdown",
      "metadata": {
        "id": "6QksNfvaY5em"
      },
      "source": [
        "## Create an authorized session to make HTTP requests"
      ]
    },
    {
      "cell_type": "code",
      "metadata": {
        "id": "h2MHcyeqLufx",
        "colab": {
          "base_uri": "https://localhost:8080/",
          "height": 401
        },
        "outputId": "88f1861c-f1ab-4fd4-979f-d1cca8bd06c8"
      },
      "source": [
        "from google.auth.transport.requests import AuthorizedSession\n",
        "from google.oauth2 import service_account\n",
        "\n",
        "credentials = service_account.Credentials.from_service_account_file(KEY)\n",
        "scoped_credentials = credentials.with_scopes(\n",
        "    ['https://www.googleapis.com/auth/cloud-platform'])\n",
        "\n",
        "session = AuthorizedSession(scoped_credentials)\n",
        "\n",
        "url = 'https://earthengine.googleapis.com/v1alpha/projects/earthengine-public/assets/LANDSAT'\n",
        "\n",
        "response = session.get(url)\n",
        "\n",
        "from pprint import pprint\n",
        "import json\n",
        "pprint(json.loads(response.content))\n"
      ],
      "execution_count": 8,
      "outputs": [
        {
          "output_type": "error",
          "ename": "JSONDecodeError",
          "evalue": "Expecting value: line 1 column 1 (char 0)",
          "traceback": [
            "\u001b[0;31m---------------------------------------------------------------------------\u001b[0m",
            "\u001b[0;31mJSONDecodeError\u001b[0m                           Traceback (most recent call last)",
            "\u001b[0;32m<ipython-input-8-933340659c75>\u001b[0m in \u001b[0;36m<cell line: 0>\u001b[0;34m()\u001b[0m\n\u001b[1;32m      2\u001b[0m \u001b[0;32mfrom\u001b[0m \u001b[0mgoogle\u001b[0m\u001b[0;34m.\u001b[0m\u001b[0moauth2\u001b[0m \u001b[0;32mimport\u001b[0m \u001b[0mservice_account\u001b[0m\u001b[0;34m\u001b[0m\u001b[0;34m\u001b[0m\u001b[0m\n\u001b[1;32m      3\u001b[0m \u001b[0;34m\u001b[0m\u001b[0m\n\u001b[0;32m----> 4\u001b[0;31m \u001b[0mcredentials\u001b[0m \u001b[0;34m=\u001b[0m \u001b[0mservice_account\u001b[0m\u001b[0;34m.\u001b[0m\u001b[0mCredentials\u001b[0m\u001b[0;34m.\u001b[0m\u001b[0mfrom_service_account_file\u001b[0m\u001b[0;34m(\u001b[0m\u001b[0mKEY\u001b[0m\u001b[0;34m)\u001b[0m\u001b[0;34m\u001b[0m\u001b[0;34m\u001b[0m\u001b[0m\n\u001b[0m\u001b[1;32m      5\u001b[0m scoped_credentials = credentials.with_scopes(\n\u001b[1;32m      6\u001b[0m     ['https://www.googleapis.com/auth/cloud-platform'])\n",
            "\u001b[0;32m/usr/local/lib/python3.11/dist-packages/google/oauth2/service_account.py\u001b[0m in \u001b[0;36mfrom_service_account_file\u001b[0;34m(cls, filename, **kwargs)\u001b[0m\n\u001b[1;32m    258\u001b[0m                 \u001b[0mcredentials\u001b[0m\u001b[0;34m.\u001b[0m\u001b[0;34m\u001b[0m\u001b[0;34m\u001b[0m\u001b[0m\n\u001b[1;32m    259\u001b[0m         \"\"\"\n\u001b[0;32m--> 260\u001b[0;31m         info, signer = _service_account_info.from_filename(\n\u001b[0m\u001b[1;32m    261\u001b[0m             \u001b[0mfilename\u001b[0m\u001b[0;34m,\u001b[0m \u001b[0mrequire\u001b[0m\u001b[0;34m=\u001b[0m\u001b[0;34m[\u001b[0m\u001b[0;34m\"client_email\"\u001b[0m\u001b[0;34m,\u001b[0m \u001b[0;34m\"token_uri\"\u001b[0m\u001b[0;34m]\u001b[0m\u001b[0;34m\u001b[0m\u001b[0;34m\u001b[0m\u001b[0m\n\u001b[1;32m    262\u001b[0m         )\n",
            "\u001b[0;32m/usr/local/lib/python3.11/dist-packages/google/auth/_service_account_info.py\u001b[0m in \u001b[0;36mfrom_filename\u001b[0;34m(filename, require, use_rsa_signer)\u001b[0m\n\u001b[1;32m     77\u001b[0m     \"\"\"\n\u001b[1;32m     78\u001b[0m     \u001b[0;32mwith\u001b[0m \u001b[0mio\u001b[0m\u001b[0;34m.\u001b[0m\u001b[0mopen\u001b[0m\u001b[0;34m(\u001b[0m\u001b[0mfilename\u001b[0m\u001b[0;34m,\u001b[0m \u001b[0;34m\"r\"\u001b[0m\u001b[0;34m,\u001b[0m \u001b[0mencoding\u001b[0m\u001b[0;34m=\u001b[0m\u001b[0;34m\"utf-8\"\u001b[0m\u001b[0;34m)\u001b[0m \u001b[0;32mas\u001b[0m \u001b[0mjson_file\u001b[0m\u001b[0;34m:\u001b[0m\u001b[0;34m\u001b[0m\u001b[0;34m\u001b[0m\u001b[0m\n\u001b[0;32m---> 79\u001b[0;31m         \u001b[0mdata\u001b[0m \u001b[0;34m=\u001b[0m \u001b[0mjson\u001b[0m\u001b[0;34m.\u001b[0m\u001b[0mload\u001b[0m\u001b[0;34m(\u001b[0m\u001b[0mjson_file\u001b[0m\u001b[0;34m)\u001b[0m\u001b[0;34m\u001b[0m\u001b[0;34m\u001b[0m\u001b[0m\n\u001b[0m\u001b[1;32m     80\u001b[0m         \u001b[0;32mreturn\u001b[0m \u001b[0mdata\u001b[0m\u001b[0;34m,\u001b[0m \u001b[0mfrom_dict\u001b[0m\u001b[0;34m(\u001b[0m\u001b[0mdata\u001b[0m\u001b[0;34m,\u001b[0m \u001b[0mrequire\u001b[0m\u001b[0;34m=\u001b[0m\u001b[0mrequire\u001b[0m\u001b[0;34m,\u001b[0m \u001b[0muse_rsa_signer\u001b[0m\u001b[0;34m=\u001b[0m\u001b[0muse_rsa_signer\u001b[0m\u001b[0;34m)\u001b[0m\u001b[0;34m\u001b[0m\u001b[0;34m\u001b[0m\u001b[0m\n",
            "\u001b[0;32m/usr/lib/python3.11/json/__init__.py\u001b[0m in \u001b[0;36mload\u001b[0;34m(fp, cls, object_hook, parse_float, parse_int, parse_constant, object_pairs_hook, **kw)\u001b[0m\n\u001b[1;32m    291\u001b[0m     \u001b[0mkwarg\u001b[0m\u001b[0;34m;\u001b[0m \u001b[0motherwise\u001b[0m\u001b[0;31m \u001b[0m\u001b[0;31m`\u001b[0m\u001b[0;31m`\u001b[0m\u001b[0mJSONDecoder\u001b[0m\u001b[0;31m`\u001b[0m\u001b[0;31m`\u001b[0m \u001b[0;32mis\u001b[0m \u001b[0mused\u001b[0m\u001b[0;34m.\u001b[0m\u001b[0;34m\u001b[0m\u001b[0;34m\u001b[0m\u001b[0m\n\u001b[1;32m    292\u001b[0m     \"\"\"\n\u001b[0;32m--> 293\u001b[0;31m     return loads(fp.read(),\n\u001b[0m\u001b[1;32m    294\u001b[0m         \u001b[0mcls\u001b[0m\u001b[0;34m=\u001b[0m\u001b[0mcls\u001b[0m\u001b[0;34m,\u001b[0m \u001b[0mobject_hook\u001b[0m\u001b[0;34m=\u001b[0m\u001b[0mobject_hook\u001b[0m\u001b[0;34m,\u001b[0m\u001b[0;34m\u001b[0m\u001b[0;34m\u001b[0m\u001b[0m\n\u001b[1;32m    295\u001b[0m         \u001b[0mparse_float\u001b[0m\u001b[0;34m=\u001b[0m\u001b[0mparse_float\u001b[0m\u001b[0;34m,\u001b[0m \u001b[0mparse_int\u001b[0m\u001b[0;34m=\u001b[0m\u001b[0mparse_int\u001b[0m\u001b[0;34m,\u001b[0m\u001b[0;34m\u001b[0m\u001b[0;34m\u001b[0m\u001b[0m\n",
            "\u001b[0;32m/usr/lib/python3.11/json/__init__.py\u001b[0m in \u001b[0;36mloads\u001b[0;34m(s, cls, object_hook, parse_float, parse_int, parse_constant, object_pairs_hook, **kw)\u001b[0m\n\u001b[1;32m    344\u001b[0m             \u001b[0mparse_int\u001b[0m \u001b[0;32mis\u001b[0m \u001b[0;32mNone\u001b[0m \u001b[0;32mand\u001b[0m \u001b[0mparse_float\u001b[0m \u001b[0;32mis\u001b[0m \u001b[0;32mNone\u001b[0m \u001b[0;32mand\u001b[0m\u001b[0;34m\u001b[0m\u001b[0;34m\u001b[0m\u001b[0m\n\u001b[1;32m    345\u001b[0m             parse_constant is None and object_pairs_hook is None and not kw):\n\u001b[0;32m--> 346\u001b[0;31m         \u001b[0;32mreturn\u001b[0m \u001b[0m_default_decoder\u001b[0m\u001b[0;34m.\u001b[0m\u001b[0mdecode\u001b[0m\u001b[0;34m(\u001b[0m\u001b[0ms\u001b[0m\u001b[0;34m)\u001b[0m\u001b[0;34m\u001b[0m\u001b[0;34m\u001b[0m\u001b[0m\n\u001b[0m\u001b[1;32m    347\u001b[0m     \u001b[0;32mif\u001b[0m \u001b[0mcls\u001b[0m \u001b[0;32mis\u001b[0m \u001b[0;32mNone\u001b[0m\u001b[0;34m:\u001b[0m\u001b[0;34m\u001b[0m\u001b[0;34m\u001b[0m\u001b[0m\n\u001b[1;32m    348\u001b[0m         \u001b[0mcls\u001b[0m \u001b[0;34m=\u001b[0m \u001b[0mJSONDecoder\u001b[0m\u001b[0;34m\u001b[0m\u001b[0;34m\u001b[0m\u001b[0m\n",
            "\u001b[0;32m/usr/lib/python3.11/json/decoder.py\u001b[0m in \u001b[0;36mdecode\u001b[0;34m(self, s, _w)\u001b[0m\n\u001b[1;32m    335\u001b[0m \u001b[0;34m\u001b[0m\u001b[0m\n\u001b[1;32m    336\u001b[0m         \"\"\"\n\u001b[0;32m--> 337\u001b[0;31m         \u001b[0mobj\u001b[0m\u001b[0;34m,\u001b[0m \u001b[0mend\u001b[0m \u001b[0;34m=\u001b[0m \u001b[0mself\u001b[0m\u001b[0;34m.\u001b[0m\u001b[0mraw_decode\u001b[0m\u001b[0;34m(\u001b[0m\u001b[0ms\u001b[0m\u001b[0;34m,\u001b[0m \u001b[0midx\u001b[0m\u001b[0;34m=\u001b[0m\u001b[0m_w\u001b[0m\u001b[0;34m(\u001b[0m\u001b[0ms\u001b[0m\u001b[0;34m,\u001b[0m \u001b[0;36m0\u001b[0m\u001b[0;34m)\u001b[0m\u001b[0;34m.\u001b[0m\u001b[0mend\u001b[0m\u001b[0;34m(\u001b[0m\u001b[0;34m)\u001b[0m\u001b[0;34m)\u001b[0m\u001b[0;34m\u001b[0m\u001b[0;34m\u001b[0m\u001b[0m\n\u001b[0m\u001b[1;32m    338\u001b[0m         \u001b[0mend\u001b[0m \u001b[0;34m=\u001b[0m \u001b[0m_w\u001b[0m\u001b[0;34m(\u001b[0m\u001b[0ms\u001b[0m\u001b[0;34m,\u001b[0m \u001b[0mend\u001b[0m\u001b[0;34m)\u001b[0m\u001b[0;34m.\u001b[0m\u001b[0mend\u001b[0m\u001b[0;34m(\u001b[0m\u001b[0;34m)\u001b[0m\u001b[0;34m\u001b[0m\u001b[0;34m\u001b[0m\u001b[0m\n\u001b[1;32m    339\u001b[0m         \u001b[0;32mif\u001b[0m \u001b[0mend\u001b[0m \u001b[0;34m!=\u001b[0m \u001b[0mlen\u001b[0m\u001b[0;34m(\u001b[0m\u001b[0ms\u001b[0m\u001b[0;34m)\u001b[0m\u001b[0;34m:\u001b[0m\u001b[0;34m\u001b[0m\u001b[0;34m\u001b[0m\u001b[0m\n",
            "\u001b[0;32m/usr/lib/python3.11/json/decoder.py\u001b[0m in \u001b[0;36mraw_decode\u001b[0;34m(self, s, idx)\u001b[0m\n\u001b[1;32m    353\u001b[0m             \u001b[0mobj\u001b[0m\u001b[0;34m,\u001b[0m \u001b[0mend\u001b[0m \u001b[0;34m=\u001b[0m \u001b[0mself\u001b[0m\u001b[0;34m.\u001b[0m\u001b[0mscan_once\u001b[0m\u001b[0;34m(\u001b[0m\u001b[0ms\u001b[0m\u001b[0;34m,\u001b[0m \u001b[0midx\u001b[0m\u001b[0;34m)\u001b[0m\u001b[0;34m\u001b[0m\u001b[0;34m\u001b[0m\u001b[0m\n\u001b[1;32m    354\u001b[0m         \u001b[0;32mexcept\u001b[0m \u001b[0mStopIteration\u001b[0m \u001b[0;32mas\u001b[0m \u001b[0merr\u001b[0m\u001b[0;34m:\u001b[0m\u001b[0;34m\u001b[0m\u001b[0;34m\u001b[0m\u001b[0m\n\u001b[0;32m--> 355\u001b[0;31m             \u001b[0;32mraise\u001b[0m \u001b[0mJSONDecodeError\u001b[0m\u001b[0;34m(\u001b[0m\u001b[0;34m\"Expecting value\"\u001b[0m\u001b[0;34m,\u001b[0m \u001b[0ms\u001b[0m\u001b[0;34m,\u001b[0m \u001b[0merr\u001b[0m\u001b[0;34m.\u001b[0m\u001b[0mvalue\u001b[0m\u001b[0;34m)\u001b[0m \u001b[0;32mfrom\u001b[0m \u001b[0;32mNone\u001b[0m\u001b[0;34m\u001b[0m\u001b[0;34m\u001b[0m\u001b[0m\n\u001b[0m\u001b[1;32m    356\u001b[0m         \u001b[0;32mreturn\u001b[0m \u001b[0mobj\u001b[0m\u001b[0;34m,\u001b[0m \u001b[0mend\u001b[0m\u001b[0;34m\u001b[0m\u001b[0;34m\u001b[0m\u001b[0m\n",
            "\u001b[0;31mJSONDecodeError\u001b[0m: Expecting value: line 1 column 1 (char 0)"
          ]
        }
      ]
    },
    {
      "cell_type": "markdown",
      "metadata": {
        "id": "_KjWa7KJY_7m"
      },
      "source": [
        "## Get a list of images at a point"
      ]
    },
    {
      "cell_type": "markdown",
      "metadata": {
        "id": "5kKbIDctpZeH"
      },
      "source": [
        "Query for Sentinel-2 images at a specific location, in a specific time range and with estimated cloud cover less than 10%."
      ]
    },
    {
      "cell_type": "code",
      "metadata": {
        "id": "0bENTPjMQr5h"
      },
      "source": [
        "import urllib\n",
        "\n",
        "coords = [-122.085, 37.422]\n",
        "\n",
        "project = 'projects/earthengine-public'\n",
        "asset_id = 'COPERNICUS/S2'\n",
        "name = '{}/assets/{}'.format(project, asset_id)\n",
        "url = 'https://earthengine.googleapis.com/v1alpha/{}:listImages?{}'.format(\n",
        "  name, urllib.parse.urlencode({\n",
        "    'startTime': '2017-04-01T00:00:00.000Z',\n",
        "    'endTime': '2017-05-01T00:00:00.000Z',\n",
        "    'region': '{\"type\":\"Point\", \"coordinates\":' + str(coords) + '}',\n",
        "    'filter': 'CLOUDY_PIXEL_PERCENTAGE < 10',\n",
        "}))\n",
        "\n",
        "response = session.get(url)\n",
        "content = response.content\n",
        "\n",
        "for asset in json.loads(content)['images']:\n",
        "    id = asset['id']\n",
        "    cloud_cover = asset['properties']['CLOUDY_PIXEL_PERCENTAGE']\n",
        "    print('%s : %s' % (id, cloud_cover))"
      ],
      "execution_count": null,
      "outputs": []
    },
    {
      "cell_type": "markdown",
      "metadata": {
        "id": "DY0MfkjiAAW_"
      },
      "source": [
        "## Inspect an image\n",
        "\n",
        "Get the asset name from the previous output and request its metadata."
      ]
    },
    {
      "cell_type": "code",
      "metadata": {
        "id": "ddzrXIl4ADLk"
      },
      "source": [
        "asset_id = 'COPERNICUS/S2/20170430T190351_20170430T190351_T10SEG'\n",
        "name = '{}/assets/{}'.format(project, asset_id)\n",
        "url = 'https://earthengine.googleapis.com/v1alpha/{}'.format(name)\n",
        "\n",
        "response = session.get(url)\n",
        "content = response.content\n",
        "\n",
        "asset = json.loads(content)\n",
        "print('Band Names: %s' % ','.join(band['id'] for band in asset['bands']))\n",
        "print('First Band: %s' % json.dumps(asset['bands'][0], indent=2, sort_keys=True))"
      ],
      "execution_count": null,
      "outputs": []
    },
    {
      "cell_type": "markdown",
      "metadata": {
        "id": "O5I63cC6ZDQn"
      },
      "source": [
        "## Get pixels from one of the images"
      ]
    },
    {
      "cell_type": "code",
      "metadata": {
        "id": "xJhv6bfEZHa2"
      },
      "source": [
        "import numpy\n",
        "import io\n",
        "\n",
        "name = '{}/assets/{}'.format(project, asset_id)\n",
        "url = 'https://earthengine.googleapis.com/v1alpha/{}:getPixels'.format(name)\n",
        "body = json.dumps({\n",
        "    'fileFormat': 'NPY',\n",
        "    'bandIds': ['B2', 'B3', 'B4', 'B8'],\n",
        "    'grid': {\n",
        "        'affineTransform': {\n",
        "            'scaleX': 10,\n",
        "            'scaleY': -10,\n",
        "            'translateX': 499980,\n",
        "            'translateY': 4200000,\n",
        "        },\n",
        "        'dimensions': {'width': 256, 'height': 256},\n",
        "    },\n",
        "})\n",
        "\n",
        "pixels_response = session.post(url, body)\n",
        "pixels_content = pixels_response.content\n",
        "\n",
        "array = numpy.load(io.BytesIO(pixels_content))\n",
        "print('Shape: %s' % (array.shape,))\n",
        "print('Data:')\n",
        "print(array)"
      ],
      "execution_count": null,
      "outputs": []
    },
    {
      "cell_type": "markdown",
      "metadata": {
        "id": "jcwE2W8kFojo"
      },
      "source": [
        "## Get a thumbnail of an image\n",
        "\n",
        "Note that `name` and `asset` are already defined from the request to get the asset metadata.  "
      ]
    },
    {
      "cell_type": "code",
      "metadata": {
        "id": "xs0ZHHKmFovV"
      },
      "source": [
        "url = 'https://earthengine.googleapis.com/v1alpha/{}:getPixels'.format(name)\n",
        "body = json.dumps({\n",
        "    'fileFormat': 'PNG',\n",
        "    'bandIds': ['B4', 'B3', 'B2'],\n",
        "    'region': asset['geometry'],\n",
        "    'grid': {\n",
        "        'dimensions': {'width': 256, 'height': 256},\n",
        "    },\n",
        "    'visualizationOptions': {\n",
        "        'ranges': [{'min': 0, 'max': 3000}],\n",
        "    },\n",
        "})\n",
        "\n",
        "image_response = session.post(url, body)\n",
        "image_content = image_response.content\n",
        "\n",
        "# Import the Image function from the IPython.display module.\n",
        "from IPython.display import Image\n",
        "Image(image_content)"
      ],
      "execution_count": null,
      "outputs": []
    }
  ]
}